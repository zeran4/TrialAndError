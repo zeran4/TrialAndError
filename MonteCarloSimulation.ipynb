{
 "cells": [
  {
   "cell_type": "markdown",
   "metadata": {},
   "source": [
    "### ‎강신동‎ 님이 게시: IoT, Deep Learning, Smart Factory, Smart City (smartbean.org forum)\n",
    "18시간\n",
    "what is Monte-Carlo Simulation\n",
    "\n",
    "a.k.a 개노가다 측정법\n",
    "\n",
    "일단, \n",
    "몬테카를로는 도시 국가인 모나코의 \n",
    "도시(마을?) 이름이며, \n",
    "인구는 3천명의 도박 도시입니다.\n",
    "도박 도시라서 확률과 관련이..\n",
    "\n",
    "첨부한 그림을 봅시다.\n",
    "\n",
    "넓이의 비율에 대한 것입니다.\n",
    "\n",
    "세로 길이가 1, 가로 길이가 2인 \n",
    "전체 면적이 2인 직사각형입니다.\n",
    "\n",
    "윗선의 과 아래선의 중앙을 선으로 잇습니다. \n",
    "그러면, 왼쪽 면적과 오른쪽 면적의 \n",
    "비율은 얼마일까요?\n",
    "\n",
    "직사각형 면적을 구하는 공식이 가로 x 세로 이므로 \n",
    "왼쪽 면적이 1, 오른쪽 면적이 1 입니다. \n",
    "비율은 1/1 = 1 입니다.\n",
    "\n",
    "-----\n",
    "이제, 아래쪽 그림을 봅시다. \n",
    "윗선의 중앙과 아랫선의 중앙을 선으로 잇는데, \n",
    "직선이 아니라 구불구불하게 균형있게 이었습니다.\n",
    "\n",
    "자, 이제 왼쪽의 면적과 오른쪽 면적의 \n",
    "비율은 무엇일까요?\n",
    "\n",
    "왼쪽과 오른쪽의 면적을 알아내는 수학 공식이 \n",
    "무엇일까요?\n",
    "\n",
    "손으로 구불구불하게 그린 중앙선 때문에 \n",
    "면적을 구하는 공식은 없습니다.\n",
    "\n",
    "쉬울 것 같았던 면적의 비율을 구할 수 없게 되었네요.\n",
    "\n",
    "이때, \n",
    "사용하는 방식이 몬테카를로 방식입니다.\n",
    "\n",
    "무작위로 면적에 점을 찍은 후 \n",
    "그 점이 어느 면적에 있는지는 알 수 있습니다.\n",
    "\n",
    "왼쪽 면에 속한 점의 갯수와 \n",
    "오른쪽 면에 속한 점의 갯수를 실제로 세어서 \n",
    "갯수를 비교하면, 면적의 비율과 거의 같을 것입니다.\n",
    "\n",
    "점을 10개만 찍으면 무작위로 인하여 한쪽으로 \n",
    "치우쳐서 오차가 좀 클 수가 있지만, \n",
    "점을 천만개를 찍어서 갯수를 세면 \n",
    "오차는 매우 작아집니다.\n",
    "\n",
    "천만개의 점을 누가 찍고 그걸 무식하게 세느냐의 \n",
    "문제가 남는데요.\n",
    "\n",
    "'소는 누가키우나' 의 개고생은 \n",
    "컴퓨터에게 시키면 되는 시대입니다.\n",
    "\n",
    "이러한 방식은 \n",
    "환경에 대한 \n",
    "수식을 모르는 문제에 적용하거나, \n",
    "완벽한 수식을 알더라도 그 해를 구할 수 없거나, \n",
    "완전한 운영 방식을 알더라도 너무 많은 경우의 수가 있거나 \n",
    "할 때 사용합니다.\n",
    "\n",
    "AlphaGo 내부에서 \n",
    "강화학습 (RL, Reinforcement Learning)에 사용됩니다.4"
   ]
  },
  {
   "cell_type": "code",
   "execution_count": 1,
   "metadata": {},
   "outputs": [],
   "source": [
    "import numpy as np\n",
    "import matplotlib.pyplot as plt"
   ]
  },
  {
   "cell_type": "code",
   "execution_count": 2,
   "metadata": {},
   "outputs": [],
   "source": [
    "# 1미터 * 2미터 : cm 단위로 scaling\n",
    "height = 100\n",
    "width = 200\n",
    "area = np.zeros([height, width])\n",
    "\n",
    "#print(np.shape(area))\n",
    "#print(area)\n",
    "\n",
    "area_line = width // 2\n",
    "for i in range(height):\n",
    "    area_line = area_line + np.random.randint(low=-1, high=2)\n",
    "    area_line = min(max(0, area_line), width-1)\n",
    "    #print(i, area_line)\n",
    "    area[i, area_line] = 1\n",
    "    #print(np.argmax(area[i]))\n",
    "#print(area)"
   ]
  },
  {
   "cell_type": "code",
   "execution_count": 3,
   "metadata": {},
   "outputs": [
    {
     "data": {
      "image/png": "[encoded data removed]",
      "text/plain": [
       "<matplotlib.figure.Figure at 0x24abe657f98>"
      ]
     },
     "metadata": {},
     "output_type": "display_data"
    }
   ],
   "source": [
    "imgplot = plt.imshow(area, cmap='gray')\n",
    "plt.show(imgplot)"
   ]
  },
  {
   "cell_type": "code",
   "execution_count": 4,
   "metadata": {},
   "outputs": [],
   "source": [
    "area_left = 0\n",
    "area_right = 0\n",
    "area_sampling_count = height * width * 100    # 면적보다 몇배 더 샘플링할 것인가?\n",
    "for i in range(area_sampling_count):\n",
    "    sampling_height = np.random.randint(low=0, high=height)\n",
    "    sampling_width = np.random.randint(low=0, high=width)\n",
    "    #print(np.argmax(area[sampling_height]), sampling_height, sampling_width)\n",
    "    if (np.argmax(area[sampling_height]) > sampling_width):\n",
    "        area_left = area_left + 1\n",
    "    else:\n",
    "        area_right = area_right + 1\n",
    "    #print(i, \"area_left : \", area_left, \"area_right : \", area_right)\n",
    "    "
   ]
  },
  {
   "cell_type": "code",
   "execution_count": 5,
   "metadata": {},
   "outputs": [
    {
     "name": "stdout",
     "output_type": "stream",
     "text": [
      "2000000 sampling in left :  1044113 sampling in right :  955887\n",
      "2000000 0.5220565 0.4779435\n"
     ]
    }
   ],
   "source": [
    "print(area_sampling_count, \"sampling in left : \", area_left, \"sampling in right : \", area_right)\n",
    "print(area_sampling_count, area_left/area_sampling_count, area_right/area_sampling_count)    "
   ]
  },
  {
   "cell_type": "code",
   "execution_count": 6,
   "metadata": {},
   "outputs": [
    {
     "data": {
      "image/png": "[encoded data removed]",
      "text/plain": [
       "<matplotlib.figure.Figure at 0x24abe657d68>"
      ]
     },
     "metadata": {},
     "output_type": "display_data"
    }
   ],
   "source": [
    "area_line = width // 2\n",
    "for i in range(height):\n",
    "    area[i, area_line] = 1\n",
    "\n",
    "imgplot = plt.imshow(area, cmap='gray')\n",
    "plt.show(imgplot)"
   ]
  },
  {
   "cell_type": "code",
   "execution_count": null,
   "metadata": {},
   "outputs": [],
   "source": []
  }
 ],
 "metadata": {
  "anaconda-cloud": {},
  "kernelspec": {
   "display_name": "Python [default]",
   "language": "python",
   "name": "python3"
  },
  "language_info": {
   "codemirror_mode": {
    "name": "ipython",
    "version": 3
   },
   "file_extension": ".py",
   "mimetype": "text/x-python",
   "name": "python",
   "nbconvert_exporter": "python",
   "pygments_lexer": "ipython3",
   "version": "3.5.2"
  }
 },
 "nbformat": 4,
 "nbformat_minor": 1
}
